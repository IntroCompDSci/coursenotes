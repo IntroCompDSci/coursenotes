{
 "cells": [
  {
   "cell_type": "markdown",
   "id": "07b9b550-82f9-4335-a10b-4ccfcc515e1e",
   "metadata": {},
   "source": [
    "# Finding your way around UofT Jupyterhub\n",
    "\n",
    "1. Go to <http://jupyter.utoronto.ca/>\n",
    "\n",
    "2. Create ..."
   ]
  },
  {
   "cell_type": "markdown",
   "id": "1e6f478d-d578-43c9-a9ee-e8ec4c0e081f",
   "metadata": {},
   "source": [
    "There won't be any math like $\\int_a^b f(x)dx$ in the course."
   ]
  },
  {
   "cell_type": "code",
   "execution_count": null,
   "id": "96cbb9c7-2b7c-4799-a047-8373c01e65cf",
   "metadata": {},
   "outputs": [],
   "source": []
  }
 ],
 "metadata": {
  "kernelspec": {
   "display_name": "Python 3",
   "language": "python",
   "name": "python3"
  },
  "language_info": {
   "codemirror_mode": {
    "name": "ipython",
    "version": 3
   },
   "file_extension": ".py",
   "mimetype": "text/x-python",
   "name": "python",
   "nbconvert_exporter": "python",
   "pygments_lexer": "ipython3",
   "version": "3.8.8"
  }
 },
 "nbformat": 4,
 "nbformat_minor": 5
}
