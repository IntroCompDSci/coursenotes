{
 "cells": [
  {
   "cell_type": "markdown",
   "id": "5cefdd8c-c07d-4186-912a-063767bda772",
   "metadata": {},
   "source": [
    "# This is yet another page in this great book"
   ]
  },
  {
   "cell_type": "markdown",
   "id": "8ead8764-108b-42c2-83e7-a22d86fb5792",
   "metadata": {},
   "source": [
    "- Pick 5 numbers between 1 and 10.\n",
    "- Create a list where 'I love ds' is in each element of the list, and the list has 5 elements."
   ]
  },
  {
   "cell_type": "code",
   "execution_count": 1,
   "id": "e3e7b293-678c-4cee-8e5b-aad23880c2ad",
   "metadata": {},
   "outputs": [],
   "source": [
    "import numpy as np\n",
    "\n",
    "x = np.random.uniform(1,10,5)"
   ]
  },
  {
   "cell_type": "code",
   "execution_count": 2,
   "id": "1dcaa0b7-078d-4a3a-ac7c-f87c2afddc07",
   "metadata": {},
   "outputs": [
    {
     "data": {
      "text/plain": [
       "['I love ds', 'I love ds', 'I love ds', 'I love ds', 'I love ds']"
      ]
     },
     "execution_count": 2,
     "metadata": {},
     "output_type": "execute_result"
    }
   ],
   "source": [
    "mylist = ['I love ds' for x in range(0,5)]\n",
    "mylist"
   ]
  }
 ],
 "metadata": {
  "kernelspec": {
   "display_name": "Python 3",
   "language": "python",
   "name": "python3"
  },
  "language_info": {
   "codemirror_mode": {
    "name": "ipython",
    "version": 3
   },
   "file_extension": ".py",
   "mimetype": "text/x-python",
   "name": "python",
   "nbconvert_exporter": "python",
   "pygments_lexer": "ipython3",
   "version": "3.8.8"
  }
 },
 "nbformat": 4,
 "nbformat_minor": 5
}